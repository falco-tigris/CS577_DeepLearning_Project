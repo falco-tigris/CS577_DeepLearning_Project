{
 "cells": [
  {
   "cell_type": "markdown",
   "metadata": {},
   "source": [
    "# ChestX-Ray data"
   ]
  },
  {
   "cell_type": "code",
   "execution_count": 1,
   "metadata": {},
   "outputs": [
    {
     "name": "stderr",
     "output_type": "stream",
     "text": [
      "[nltk_data] Downloading package punkt to /home/mdelucasg/nltk_data...\n",
      "[nltk_data]   Package punkt is already up-to-date!\n"
     ]
    }
   ],
   "source": [
    "import torch\n",
    "import numpy as np\n",
    "import pandas as pd\n",
    "import torch.nn as nn\n",
    "import torch.optim as optim\n",
    "import models.training as tr\n",
    "import models.reportnet as M\n",
    "import data.preprocessing as pr\n",
    "from torchvision import transforms\n",
    "\n",
    "batch_size = 2\n",
    "# Load data\n",
    "uids = np.unique(pr.projections.index)\n",
    "\n",
    "# Image preprocessing \n",
    "transform = transforms.Compose([\n",
    "    transforms.ToTensor(),\n",
    "    transforms.Resize((2048, 2048), antialias=False)\n",
    "])\n",
    "train_data, train_loader, val_data, val_loader, test_data, test_loader = pr.create_dataloaders(uids, pr.IMAGES_PATH, batch_size=batch_size, transform=transform)\n",
    "\n",
    "# for i, batch in enumerate(train_loader):\n",
    "#     print(f\"Images batch: {batch[0].shape}\")\n",
    "#     print(f\"Reports batch: {batch[1].shape}\")\n",
    "#     break\n",
    "\n",
    "# train_reports = [torch.tensor(train_data[i][1]).unsqueeze(0) for i in range(len(train_data))]\n",
    "# train_reports = torch.cat(train_reports, dim=0)\n",
    "# print(train_reports.shape)\n",
    "# print(train_reports[0])\n",
    "# pr.print_sequence(train_reports[0].numpy(), train_data.idx2word)"
   ]
  },
  {
   "cell_type": "markdown",
   "metadata": {},
   "source": [
    "# ReportNet (our model from scratch)"
   ]
  },
  {
   "cell_type": "markdown",
   "metadata": {},
   "source": [
    "## Training"
   ]
  },
  {
   "cell_type": "code",
   "execution_count": 3,
   "metadata": {},
   "outputs": [
    {
     "name": "stdout",
     "output_type": "stream",
     "text": [
      "Epoch 1\n"
     ]
    },
    {
     "name": "stderr",
     "output_type": "stream",
     "text": [
      "/home/mdelucasg/dev/CS577_DeepLearning_Project/models/reportnet.py:105: UserWarning: Implicit dimension choice for log_softmax has been deprecated. Change the call to include dim=X as an argument.\n",
      "  return self.softmax(out)\n"
     ]
    }
   ],
   "source": [
    "# Define the parameters\n",
    "d_model = 128 # how many features do we have for each token --> embeding dimension\n",
    "nhead = 2\n",
    "num_layers = 6\n",
    "dropout = 0.1\n",
    "max_len = 60\n",
    "\n",
    "model = M.ReportNet(pr.tokenizer.vocab_size, d_model, max_len, dropout)\n",
    "\n",
    "criterion = nn.CrossEntropyLoss()\n",
    "optimizer = optim.Adam(model.parameters(), lr=3e-4)\n",
    "\n",
    "tr.fit(model, optimizer, criterion, train_loader, val_loader, epochs=1)"
   ]
  },
  {
   "cell_type": "markdown",
   "metadata": {},
   "source": [
    "## Testing"
   ]
  },
  {
   "cell_type": "code",
   "execution_count": 3,
   "metadata": {},
   "outputs": [
    {
     "name": "stdout",
     "output_type": "stream",
     "text": [
      "Test loss: 5.0636599858601885\n"
     ]
    }
   ],
   "source": [
    "print(f\"Test loss: {tr.validation_loop(model, criterion, test_loader)}\")"
   ]
  },
  {
   "cell_type": "markdown",
   "metadata": {},
   "source": [
    "## Predict"
   ]
  },
  {
   "cell_type": "code",
   "execution_count": 5,
   "metadata": {},
   "outputs": [
    {
     "name": "stderr",
     "output_type": "stream",
     "text": [
      "/home/mdelucasg/dev/CS577_DeepLearning_Project/models/reportnet.py:105: UserWarning: Implicit dimension choice for log_softmax has been deprecated. Change the call to include dim=X as an argument.\n",
      "  return self.softmax(out)\n"
     ]
    },
    {
     "name": "stdout",
     "output_type": "stream",
     "text": [
      "<s> The lungs and pleural spaces show no acute abnormality . Heart size is mildly enlarged , pulmonary vascularity within normal limits . </s> <pad> <pad> <pad> <pad> <pad> <pad> <pad> <pad> <pad> <pad> <pad> <pad> <pad> <pad> <pad> <pad> <pad> <pad> <pad> <pad> <pad> <pad> <pad> <pad> <pad> <pad> <pad> <pad> <pad> <pad> <pad> <pad> <pad> <pad> <pad> <pad>\n",
      "stable opacities opacities opacities opacities opacities opacities opacities opacities opacities opacities opacities opacities opacities opacities opacities opacities opacities opacities opacities opacities\n",
      "\n"
     ]
    }
   ],
   "source": [
    "from matplotlib import pyplot as plt\n",
    "# Get a sample from the test set\n",
    "bimg, breport = next(iter(test_loader))\n",
    "\n",
    "# Get the prediction\n",
    "result = tr.predict(model, bimg, breport, max_length=20, SOS_token=test_data.word2idx[pr.SOS_TOKEN], EOS_token=test_data.word2idx[pr.EOS_TOKEN])\n",
    "pr.print_sequence(breport[0].numpy(), test_data.idx2word)\n",
    "pr.print_sequence(result, train_data.idx2word)\n",
    "print()"
   ]
  },
  {
   "cell_type": "code",
   "execution_count": 27,
   "metadata": {},
   "outputs": [
    {
     "name": "stdout",
     "output_type": "stream",
     "text": [
      "<s> 2 images . Calcified granuloma , right lung base . Heart size and pulmonary vascular engorgement appear within limits of normal . Mediastinal contour is unremarkable . No focal consolidation , pleural effusion , or pneumothorax identified . No convincing acute bony findings . </s> <pad> <pad> <pad> <pad> <pad> <pad> <pad> <pad> <pad> <pad> <pad> <pad> <pad> <pad>\n"
     ]
    }
   ],
   "source": [
    "pr.print_sequence(breport[0].numpy(), test_data.idx2word)"
   ]
  }
 ],
 "metadata": {
  "kernelspec": {
   "display_name": "Python 3",
   "language": "python",
   "name": "python3"
  },
  "language_info": {
   "codemirror_mode": {
    "name": "ipython",
    "version": 3
   },
   "file_extension": ".py",
   "mimetype": "text/x-python",
   "name": "python",
   "nbconvert_exporter": "python",
   "pygments_lexer": "ipython3",
   "version": "3.10.12"
  }
 },
 "nbformat": 4,
 "nbformat_minor": 2
}
