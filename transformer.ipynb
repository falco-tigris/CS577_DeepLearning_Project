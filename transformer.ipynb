{
 "cells": [
  {
   "cell_type": "markdown",
   "metadata": {},
   "source": [
    "# ChestX-Ray data"
   ]
  },
  {
   "cell_type": "code",
   "execution_count": 1,
   "metadata": {},
   "outputs": [
    {
     "name": "stderr",
     "output_type": "stream",
     "text": [
      "[nltk_data] Downloading package punkt to /home/mdelucasg/nltk_data...\n",
      "[nltk_data]   Package punkt is already up-to-date!\n"
     ]
    },
    {
     "name": "stdout",
     "output_type": "stream",
     "text": [
      "Generating data: 34/60\r"
     ]
    }
   ],
   "source": [
    "import numpy as np\n",
    "import data.preprocessing as pr\n",
    "\n",
    "# Load data\n",
    "reports = pr.reports\n",
    "projections = pr.projections\n",
    "\n",
    "uids = np.unique(projections.index)\n",
    "uids = np.random.choice(uids, 100, replace=False)\n",
    "train_data, train_loader, val_data, val_loader, test_data, test_loader = pr.create_dataloaders(uids, projections, reports, pr.IMAGES_PATH)\n",
    "vocab_size = len(train_data.vocab.union(val_data.vocab))\n",
    "\n",
    "# Get reports as text sequences\n",
    "train_reports = pr.get_sequences(train_data, train_data.word2idx['</s>'], train_data.word2idx['<pad>'])\n",
    "val_reports = pr.get_sequences(val_data, val_data.word2idx['</s>'], val_data.word2idx['<pad>'])"
   ]
  },
  {
   "cell_type": "code",
   "execution_count": null,
   "metadata": {},
   "outputs": [
    {
     "name": "stdout",
     "output_type": "stream",
     "text": [
      "<s> Lungs are overall hyperexpanded with flattening of the diaphragms . Lungs are clear without focal airspace disease . No pleural effusions or pneumothoraces . Heart and mediastinum of normal size and contour . degenerative changes within the spine . There are expansile changes within the right clavicle which were seen on the previous XXXX/CT . Findings are consistent with changes of multiple myeloma . </s> <pad> <pad> <pad> <pad> <pad> <pad> <pad> <pad> <pad> <pad> <pad> <pad> <pad> <pad> <pad> <pad> <pad> <pad> <pad> <pad> <pad> <pad> <pad> <pad> <pad> <pad> <pad> <pad> <pad> <pad> <pad> <pad> <pad> </s>\n",
      "<s> XXXX sternotomy XXXX and numerous mediastinal clips appear stable in position . There is aortic atherosclerotic calcification . The thoracic aorta is tortuous . Stable widening of the upper mediastinum . Stable cardiomegaly . Prominent mitral annular calcification demonstrated on the lateral view . No pneumothorax , pleural effusion or airspace consolidation . XXXX XXXX appear intact . </s> <pad> <pad> <pad> <pad> <pad> <pad> <pad> <pad> <pad> <pad> <pad> <pad> <pad> <pad> <pad> <pad> <pad> <pad> <pad> <pad> <pad> <pad> <pad> <pad> <pad> <pad> <pad> <pad> <pad> <pad> <pad> <pad> <pad> <pad> <pad> <pad> <pad> <pad> <pad> </s>\n"
     ]
    }
   ],
   "source": [
    "t_loader = pr.bachify(train_reports, batch_size=32)\n",
    "v_loader = pr.bachify(val_reports, batch_size=32)\n",
    "pr.print_sequence(t_loader[0][0], train_data.idx2word)\n",
    "pr.print_sequence(v_loader[0][1], val_data.idx2word)"
   ]
  },
  {
   "cell_type": "markdown",
   "metadata": {},
   "source": [
    "# Training"
   ]
  },
  {
   "cell_type": "code",
   "execution_count": null,
   "metadata": {},
   "outputs": [
    {
     "ename": "NameError",
     "evalue": "name 'vocab_size' is not defined",
     "output_type": "error",
     "traceback": [
      "\u001b[0;31m---------------------------------------------------------------------------\u001b[0m",
      "\u001b[0;31mNameError\u001b[0m                                 Traceback (most recent call last)",
      "\u001b[1;32m/home/mdelucasg/dev/CS577_DeepLearning_Project/transformer.ipynb Cell 5\u001b[0m line \u001b[0;36m1\n\u001b[1;32m      <a href='vscode-notebook-cell:/home/mdelucasg/dev/CS577_DeepLearning_Project/transformer.ipynb#W4sZmlsZQ%3D%3D?line=6'>7</a>\u001b[0m device \u001b[39m=\u001b[39m \u001b[39m\"\u001b[39m\u001b[39mcuda\u001b[39m\u001b[39m\"\u001b[39m \u001b[39mif\u001b[39;00m torch\u001b[39m.\u001b[39mcuda\u001b[39m.\u001b[39mis_available() \u001b[39melse\u001b[39;00m \u001b[39m\"\u001b[39m\u001b[39mcpu\u001b[39m\u001b[39m\"\u001b[39m\n\u001b[1;32m      <a href='vscode-notebook-cell:/home/mdelucasg/dev/CS577_DeepLearning_Project/transformer.ipynb#W4sZmlsZQ%3D%3D?line=8'>9</a>\u001b[0m \u001b[39m# Model\u001b[39;00m\n\u001b[1;32m     <a href='vscode-notebook-cell:/home/mdelucasg/dev/CS577_DeepLearning_Project/transformer.ipynb#W4sZmlsZQ%3D%3D?line=9'>10</a>\u001b[0m model \u001b[39m=\u001b[39m M\u001b[39m.\u001b[39mTransformer(\n\u001b[0;32m---> <a href='vscode-notebook-cell:/home/mdelucasg/dev/CS577_DeepLearning_Project/transformer.ipynb#W4sZmlsZQ%3D%3D?line=10'>11</a>\u001b[0m     num_tokens\u001b[39m=\u001b[39mvocab_size,\n\u001b[1;32m     <a href='vscode-notebook-cell:/home/mdelucasg/dev/CS577_DeepLearning_Project/transformer.ipynb#W4sZmlsZQ%3D%3D?line=11'>12</a>\u001b[0m     dim_model\u001b[39m=\u001b[39mvocab_size\u001b[39m*\u001b[39m\u001b[39m2\u001b[39m,\n\u001b[1;32m     <a href='vscode-notebook-cell:/home/mdelucasg/dev/CS577_DeepLearning_Project/transformer.ipynb#W4sZmlsZQ%3D%3D?line=12'>13</a>\u001b[0m     num_heads\u001b[39m=\u001b[39m\u001b[39m2\u001b[39m,\n\u001b[1;32m     <a href='vscode-notebook-cell:/home/mdelucasg/dev/CS577_DeepLearning_Project/transformer.ipynb#W4sZmlsZQ%3D%3D?line=13'>14</a>\u001b[0m     num_encoder_layers\u001b[39m=\u001b[39m\u001b[39m3\u001b[39m,\n\u001b[1;32m     <a href='vscode-notebook-cell:/home/mdelucasg/dev/CS577_DeepLearning_Project/transformer.ipynb#W4sZmlsZQ%3D%3D?line=14'>15</a>\u001b[0m     num_decoder_layers\u001b[39m=\u001b[39m\u001b[39m3\u001b[39m,\n\u001b[1;32m     <a href='vscode-notebook-cell:/home/mdelucasg/dev/CS577_DeepLearning_Project/transformer.ipynb#W4sZmlsZQ%3D%3D?line=15'>16</a>\u001b[0m     dropout_p\u001b[39m=\u001b[39m\u001b[39m0.3\u001b[39m,\n\u001b[1;32m     <a href='vscode-notebook-cell:/home/mdelucasg/dev/CS577_DeepLearning_Project/transformer.ipynb#W4sZmlsZQ%3D%3D?line=16'>17</a>\u001b[0m )\n\u001b[1;32m     <a href='vscode-notebook-cell:/home/mdelucasg/dev/CS577_DeepLearning_Project/transformer.ipynb#W4sZmlsZQ%3D%3D?line=18'>19</a>\u001b[0m \u001b[39m# Training\u001b[39;00m\n\u001b[1;32m     <a href='vscode-notebook-cell:/home/mdelucasg/dev/CS577_DeepLearning_Project/transformer.ipynb#W4sZmlsZQ%3D%3D?line=19'>20</a>\u001b[0m optimizer \u001b[39m=\u001b[39m optim\u001b[39m.\u001b[39mAdam(model\u001b[39m.\u001b[39mparameters(), lr\u001b[39m=\u001b[39m\u001b[39m0.0001\u001b[39m)\n",
      "\u001b[0;31mNameError\u001b[0m: name 'vocab_size' is not defined"
     ]
    }
   ],
   "source": [
    "import torch\n",
    "import torch.nn as nn\n",
    "import torch.optim as optim\n",
    "import models.training as tr\n",
    "import models.reportnet as M\n",
    "\n",
    "device = \"cuda\" if torch.cuda.is_available() else \"cpu\"\n",
    "\n",
    "# Model\n",
    "model = M.Transformer(\n",
    "    num_tokens=vocab_size,\n",
    "    dim_model=vocab_size*2,\n",
    "    num_heads=2,\n",
    "    num_encoder_layers=3,\n",
    "    num_decoder_layers=3,\n",
    "    dropout_p=0.3,\n",
    ")\n",
    "\n",
    "# Training\n",
    "optimizer = optim.Adam(model.parameters(), lr=0.0001)\n",
    "criterion = nn.CrossEntropyLoss(ignore_index=train_data.word2idx['<pad>'])\n",
    "trainer = tr.fit(model, optimizer, criterion, t_loader, v_loader, 2)"
   ]
  },
  {
   "cell_type": "markdown",
   "metadata": {},
   "source": [
    "# Predict"
   ]
  },
  {
   "cell_type": "code",
   "execution_count": null,
   "metadata": {},
   "outputs": [
    {
     "name": "stdout",
     "output_type": "stream",
     "text": [
      "[78, 132, 172, 174, 51, 168, 190, 17, 121, 163, 179, 184, 168, 25, 163, 44, 56, 168, 107, 163, 64, 67, 67, 67, 67, 67, 67, 67, 67, 67, 67, 67, 67, 67, 67, 67, 67, 67, 67, 67, 67, 67, 67, 67, 67, 67, 67, 67, 67, 67, 67, 67, 67, 67, 67, 67, 67, 67, 67, 67, 67, 67, 67, 67, 67, 67, 67, 67, 67, 67, 67, 67, 67, 67, 67, 67, 67, 67, 67, 67, 67, 67, 67, 67, 67, 67, 67, 67, 67, 67, 67, 67, 67, 67, 67, 67, 67, 67, 67, 64]\n",
      "<s> Cardiac and mediastinal contours are within normal limits . The lungs are clear . Bony structures are intact . </s> <pad> <pad> <pad> <pad> <pad> <pad> <pad> <pad> <pad> <pad> <pad> <pad> <pad> <pad> <pad> <pad> <pad> <pad> <pad> <pad> <pad> <pad> <pad> <pad> <pad> <pad> <pad> <pad> <pad> <pad> <pad> <pad> <pad> <pad> <pad> <pad> <pad> <pad> <pad> <pad> <pad> <pad> <pad> <pad> <pad> <pad> <pad> <pad> <pad> <pad> <pad> <pad> <pad> <pad> <pad> <pad> <pad> <pad> <pad> <pad> <pad> <pad> <pad> <pad> <pad> <pad> <pad> <pad> <pad> <pad> <pad> <pad> <pad> <pad> <pad> <pad> <pad> <pad> </s>\n"
     ]
    }
   ],
   "source": [
    "for idx, example in enumerate(val_reports):\n",
    "    print(example)\n",
    "    break\n",
    "\n",
    "pr.print_sequence(val_reports[0], val_data.idx2word)"
   ]
  },
  {
   "cell_type": "code",
   "execution_count": null,
   "metadata": {},
   "outputs": [
    {
     "name": "stdout",
     "output_type": "stream",
     "text": [
      "Example 0\n",
      "<s> Lungs are overall hyperexpanded with flattening of the diaphragms . Lungs are clear without focal airspace disease . No pleural effusions or pneumothoraces . Heart and mediastinum of normal size and contour . degenerative changes within the spine . There are expansile changes within the right clavicle which were seen on the previous XXXX/CT . Findings are consistent with changes of multiple myeloma . </s> <pad> <pad> <pad> <pad> <pad> <pad> <pad> <pad> <pad> <pad> <pad> <pad> <pad> <pad> <pad> <pad> <pad> <pad> <pad> <pad> <pad> <pad> <pad> <pad> <pad> <pad> <pad> <pad> <pad> <pad> <pad> <pad> <pad> </s>\n",
      "recess </s> </s> </s> </s> </s> </s> </s> </s> </s> </s> </s> </s> </s> </s> </s>\n"
     ]
    }
   ],
   "source": [
    "# Test reports\n",
    "for idx, example in enumerate(train_reports):\n",
    "    result = tr.predict(model, torch.tensor([example]))\n",
    "    print(f\"Example {idx}\")\n",
    "    pr.print_sequence(example, train_data.idx2word)\n",
    "    pr.print_sequence(result, train_data.idx2word)\n",
    "    break"
   ]
  },
  {
   "cell_type": "code",
   "execution_count": null,
   "metadata": {},
   "outputs": [
    {
     "ename": "NameError",
     "evalue": "name 'torch' is not defined",
     "output_type": "error",
     "traceback": [
      "\u001b[0;31m---------------------------------------------------------------------------\u001b[0m",
      "\u001b[0;31mNameError\u001b[0m                                 Traceback (most recent call last)",
      "\u001b[1;32m/home/mdelucasg/dev/CS577_DeepLearning_Project/transformer.ipynb Cell 9\u001b[0m line \u001b[0;36m1\n\u001b[0;32m----> <a href='vscode-notebook-cell:/home/mdelucasg/dev/CS577_DeepLearning_Project/transformer.ipynb#X11sZmlsZQ%3D%3D?line=0'>1</a>\u001b[0m torch\u001b[39m.\u001b[39mtensor([example])\n",
      "\u001b[0;31mNameError\u001b[0m: name 'torch' is not defined"
     ]
    }
   ],
   "source": [
    "torch.tensor([example])"
   ]
  }
 ],
 "metadata": {
  "kernelspec": {
   "display_name": "Python 3",
   "language": "python",
   "name": "python3"
  },
  "language_info": {
   "codemirror_mode": {
    "name": "ipython",
    "version": 3
   },
   "file_extension": ".py",
   "mimetype": "text/x-python",
   "name": "python",
   "nbconvert_exporter": "python",
   "pygments_lexer": "ipython3",
   "version": "3.10.12"
  }
 },
 "nbformat": 4,
 "nbformat_minor": 2
}
